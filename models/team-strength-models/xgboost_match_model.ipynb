{
 "cells": [
  {
   "cell_type": "code",
   "execution_count": 21,
   "metadata": {},
   "outputs": [],
   "source": [
    "import warnings\n",
    "import requests\n",
    "import pandas as pd\n",
    "import io\n",
    "import os\n",
    "\n",
    "from sklearn.preprocessing import StandardScaler\n"
   ]
  },
  {
   "cell_type": "markdown",
   "metadata": {},
   "source": [
    "### Data Loading"
   ]
  },
  {
   "cell_type": "code",
   "execution_count": 22,
   "metadata": {},
   "outputs": [
    {
     "name": "stdout",
     "output_type": "stream",
     "text": [
      "        season  match_date    home_team  away_team  home_goals  home_xgoals  \\\n",
      "3835  20242025  2024-09-14       Fulham   West Ham           1     2.886010   \n",
      "3836  20242025  2024-09-14  Aston Villa    Everton           3     3.158760   \n",
      "3837  20242025  2024-09-14     Brighton    Ipswich           0     1.756960   \n",
      "3838  20242025  2024-09-15    Tottenham    Arsenal           0     0.792595   \n",
      "3839  20242025  2024-09-15       Wolves  Newcastle           1     1.469690   \n",
      "\n",
      "      away_goals  away_xgoals  \n",
      "3835           1     0.682719  \n",
      "3836           2     0.852158  \n",
      "3837           0     0.721323  \n",
      "3838           1     1.120900  \n",
      "3839           2     1.483430  \n"
     ]
    }
   ],
   "source": [
    "# Suppress divide by zero warnings\n",
    "warnings.filterwarnings(\"ignore\", category=RuntimeWarning, message=\"divide by zero encountered in log\")\n",
    "\n",
    "\n",
    "API_KEY = os.getenv(\"API_KEY\")\n",
    "url = 'https://data-service.beatthebookie.blog/data'\n",
    "headers = {\"x-api-key\": API_KEY}\n",
    "params = {'division':'Premier League'}\n",
    "response = requests.get(url, headers=headers, params=params)\n",
    "json_str = response.content.decode('utf-8')\n",
    "prem_df = pd.read_json(io.StringIO(json_str))\n",
    "prem_teams_25 = prem_df[prem_df[\"season\"] == 20242025]\n",
    "prem_teams_25 = pd.concat([prem_teams_25['home_team'], prem_teams_25['away_team']]).unique()\n",
    "\n",
    "params = {'division':'Championship'}\n",
    "response = requests.get(url, headers=headers, params=params)\n",
    "json_str = response.content.decode('utf-8')\n",
    "champ_df = pd.read_json(io.StringIO(json_str))\n",
    "\n",
    "df = pd.concat([champ_df, prem_df])\n",
    "#df = df[(df['home_team'].isin(prem_teams_25)) | (df['away_team'].isin(prem_teams_25))]\n",
    "\n",
    "print(df[[\"season\", \"match_date\", \"home_team\", \"away_team\", \"home_goals\", \"home_xgoals\", \"away_goals\", \"away_xgoals\"]].tail())"
   ]
  },
  {
   "cell_type": "markdown",
   "metadata": {},
   "source": [
    "### Data Cleansing"
   ]
  },
  {
   "cell_type": "code",
   "execution_count": 23,
   "metadata": {},
   "outputs": [
    {
     "name": "stdout",
     "output_type": "stream",
     "text": [
      "division_id                 0\n",
      "division                    0\n",
      "season_id                   0\n",
      "season                      0\n",
      "match_date                  0\n",
      "match_teams                 0\n",
      "home_team_id                0\n",
      "home_team                   0\n",
      "away_team_id                0\n",
      "away_team                   0\n",
      "home_num_players            0\n",
      "home_market_value           0\n",
      "home_avg_market_value       0\n",
      "away_num_players            0\n",
      "away_market_value           0\n",
      "away_avg_market_value       0\n",
      "home_goals                  0\n",
      "away_goals                  0\n",
      "home_shots                430\n",
      "away_shots                  0\n",
      "home_shots_on_target        0\n",
      "away_shots_on_target        0\n",
      "home_corners                0\n",
      "away_corners                0\n",
      "home_yellow                 0\n",
      "away_yellow                 0\n",
      "home_red                    0\n",
      "away_red                    0\n",
      "home_xgoals                 0\n",
      "away_xgoals                 0\n",
      "home_deep                3912\n",
      "away_deep                3912\n",
      "home_ppda                3912\n",
      "away_ppda                3912\n",
      "bet365_home_odds            0\n",
      "bet365_draw_odds            0\n",
      "bet365_away_odds            0\n",
      "bet365_u25_odds           382\n",
      "bet365_o25_odds           382\n",
      "dtype: int64\n",
      "         division    season  count\n",
      "0    Championship  20242025     50\n",
      "1  Premier League  20202021    380\n",
      "       division    season  count\n",
      "0  Championship  20172018    551\n",
      "1  Championship  20182019    551\n",
      "2  Championship  20192020    552\n",
      "3  Championship  20202021    552\n",
      "4  Championship  20212022    552\n",
      "5  Championship  20222023    552\n",
      "6  Championship  20232024    552\n",
      "7  Championship  20242025     50\n"
     ]
    }
   ],
   "source": [
    "df['match_date'] = pd.to_datetime(df['match_date'])\n",
    "\n",
    "# Converts columns listed below to numeric datatype\n",
    "numeric_cols = [\"home_num_players\", \"home_market_value\", \"home_avg_market_value\", \"away_num_players\", \"away_market_value\", \"away_avg_market_value\",\n",
    "                \"home_goals\", \"away_goals\", \"home_shots\", \"away_shots\", \"home_shots_on_target\", \"away_shots_on_target\", \"home_corners\", \"away_corners\",\n",
    "                \"home_red\", \"away_red\", \"home_yellow\", \"away_yellow\", \"home_deep\", \"away_deep\", \"home_ppda\", \"away_ppda\"]\n",
    "for col in numeric_cols:\n",
    "    df[col] = pd.to_numeric(df[col], errors=\"coerce\")\n",
    "\n",
    "#Check for nulls\n",
    "print(df.isnull().sum())\n",
    "\n",
    "# Investigating home_shots nulls\n",
    "home_shot_nulls = df[df[\"home_shots\"].isnull()]\n",
    "home_shot_null_counts = home_shot_nulls.groupby([\"division\", \"season\"]).size().reset_index(name='count')\n",
    "print(home_shot_null_counts)\n",
    "\n",
    "# Investigating deep/ppda nulls\n",
    "ppda_nulls = df[df[\"home_ppda\"].isnull()]\n",
    "ppda_null_counts = ppda_nulls.groupby([\"division\", \"season\"]).size().reset_index(name='count')\n",
    "print(ppda_null_counts)\n"
   ]
  },
  {
   "cell_type": "markdown",
   "metadata": {},
   "source": [
    "ABove analysis shos that Championship is missing data for deep/ppda and that some random seasons of Premier League and Championship are missing home_shots data. I will not be handling these missing values directly as I am going to use an XGBoost model which handles missing values in training itself."
   ]
  },
  {
   "cell_type": "code",
   "execution_count": 24,
   "metadata": {},
   "outputs": [],
   "source": [
    "# Separates out the home vs away and allows every team to have an individual row of data. Allows us to feature engineer home effect easier.\n",
    "home_df = df[[\"division\", \"season\", \"match_date\",\n",
    "             \"home_team\", \"home_avg_market_value\", \"home_goals\", \"home_shots\", \"home_xgoals\",  \"home_deep\", \"home_ppda\",\n",
    "             \"home_shots_on_target\", \"home_corners\", \"home_yellow\", \"home_red\",\n",
    "             \"away_team\", \"away_avg_market_value\", \"away_goals\", \"away_shots\", \"away_xgoals\", \"away_deep\", \"away_ppda\",\n",
    "             \"away_shots_on_target\", \"away_corners\", \"away_yellow\", \"away_red\",\n",
    "              ]].copy()\n",
    "home_df[\"home?\"] = 1\n",
    "home_df = home_df.rename(columns={\"home_team\":\"team\", \"home_avg_market_value\":\"avg_market_value\", \"home_goals\":\"goals\",\n",
    "             \"home_shots\":\"shots\", \"home_xgoals\":\"xG\",  \"home_deep\":\"deep\", \"home_ppda\":\"ppda\", \"home_shots_on_target\":\"shots_on_target\",\n",
    "             \"home_corners\":\"corners\", \"home_yellow\": \"yellow\", \"home_red\": \"red\",\n",
    "\n",
    "             \"away_team\":\"opponent_team\", \"away_avg_market_value\":\"opponent_avg_market_value\", \"away_goals\":\"opponent_goals\", \n",
    "             \"away_shots\": \"opponent_shots\", \"away_xgoals\": \"opponent_xG\", \"away_deep\":\"opponent_deep\", \"away_ppda\":\"opponent_ppda\",\n",
    "             \"away_shots_on_target\": \"opponent_shots_on_target\", \"away_corners\":\"opponent_corners\", \"away_yellow\":\"opponent_yellow\",\n",
    "             \"away_red\": \"opponent_red\"})\n",
    "\n",
    "away_df = df[[\"division\", \"season\", \"match_date\",\n",
    "                \"away_team\", \"away_avg_market_value\", \"away_goals\", \"away_shots\", \"away_xgoals\",  \"away_deep\", \"away_ppda\",\n",
    "                \"away_shots_on_target\", \"away_corners\", \"away_yellow\", \"away_red\",\n",
    "                \"home_team\", \"home_avg_market_value\", \"home_goals\", \"home_shots\", \"home_xgoals\", \"home_deep\", \"home_ppda\",\n",
    "                \"home_shots_on_target\", \"home_corners\", \"home_yellow\", \"home_red\",]].copy()\n",
    "away_df[\"home?\"] = 0\n",
    "away_df = away_df.rename(columns={\"away_team\":\"team\", \"away_avg_market_value\":\"avg_market_value\", \"away_goals\":\"goals\",\n",
    "             \"away_shots\":\"shots\", \"away_xgoals\":\"xG\", \"away_deep\":\"deep\", \"away_ppda\":\"ppda\", \"away_shots_on_target\":\"shots_on_target\",\n",
    "             \"away_corners\":\"corners\", \"away_yellow\":\"yellow\", \"away_red\":\"red\",\n",
    "\n",
    "\n",
    "             \"home_team\":\"opponent_team\", \"home_avg_market_value\":\"opponent_avg_market_value\", \"home_goals\":\"opponent_goals\", \n",
    "             \"home_shots\": \"opponent_shots\", \"home_xgoals\": \"opponent_xG\", \"home_deep\":\"opponent_deep\", \"home_ppda\":\"opponent_ppda\",\n",
    "             \"home_shots_on_target\":\"opponent_shots_on_target\", \"home_corners\":\"opponent_corners\", \"home_yellow\":\"opponent_yellow\",\n",
    "             \"home_red\":\"opponent_red\"})\n",
    "\n",
    "df = pd.concat([away_df, home_df])\n",
    "df.sort_values([\"match_date\", \"division\"], inplace=True)"
   ]
  }
 ],
 "metadata": {
  "kernelspec": {
   "display_name": "Python 3",
   "language": "python",
   "name": "python3"
  },
  "language_info": {
   "codemirror_mode": {
    "name": "ipython",
    "version": 3
   },
   "file_extension": ".py",
   "mimetype": "text/x-python",
   "name": "python",
   "nbconvert_exporter": "python",
   "pygments_lexer": "ipython3",
   "version": "3.12.2"
  }
 },
 "nbformat": 4,
 "nbformat_minor": 2
}
