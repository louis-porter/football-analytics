{
 "cells": [
  {
   "cell_type": "code",
   "execution_count": 12,
   "metadata": {},
   "outputs": [
    {
     "name": "stdout",
     "output_type": "stream",
     "text": [
      "      match_date    home_team  away_team  home_goals  home_xgoals  away_goals  \\\n",
      "3815  2024-08-24       Fulham  Leicester           2      1.96218           1   \n",
      "3816  2024-08-24     Man City    Ipswich           4      3.07818           1   \n",
      "3817  2024-08-25  Bournemouth  Newcastle           1      2.53513           1   \n",
      "3818  2024-08-25       Wolves    Chelsea           2      2.41810           6   \n",
      "3819  2024-08-25    Liverpool  Brentford           2      2.71877           0   \n",
      "\n",
      "      away_xgoals  \n",
      "3815     0.857005  \n",
      "3816     0.479999  \n",
      "3817     1.892870  \n",
      "3818     2.029350  \n",
      "3819     0.457239  \n"
     ]
    },
    {
     "name": "stderr",
     "output_type": "stream",
     "text": [
      "C:\\Users\\Owner\\AppData\\Local\\Temp\\ipykernel_7656\\3235614769.py:13: FutureWarning: Passing literal json to 'read_json' is deprecated and will be removed in a future version. To read from a literal string, wrap it in a 'StringIO' object.\n",
      "  prem_df= pd.read_json(json_str_prem)\n"
     ]
    }
   ],
   "source": [
    "import requests\n",
    "import json\n",
    "import os\n",
    "import numpy as np\n",
    "import pandas as pd\n",
    "\n",
    "API_KEY = os.getenv(\"API_KEY\")\n",
    "url = 'https://data-service.beatthebookie.blog/data'\n",
    "headers = {\"x-api-key\": API_KEY}\n",
    "params = {'division':'Premier League'}\n",
    "response = requests.get(url, headers=headers, params=params)\n",
    "json_str_prem = response.content.decode('utf-8')\n",
    "prem_df= pd.read_json(json_str_prem)"
   ]
  },
  {
   "cell_type": "code",
   "execution_count": 13,
   "metadata": {},
   "outputs": [
    {
     "name": "stdout",
     "output_type": "stream",
     "text": [
      "      match_date home_team         away_team  home_goals  home_xgoals  \\\n",
      "3887  2024-08-24   Preston             Luton           1          0.3   \n",
      "3888  2024-08-24   Watford             Derby           2          1.1   \n",
      "3889  2024-08-24   Norwich  Sheffield United           1          1.0   \n",
      "3890  2024-08-24       QPR   Plymouth Argyle           1          2.2   \n",
      "3891  2024-08-25   Swansea           Cardiff           1          1.3   \n",
      "\n",
      "      away_goals  away_xgoals  \n",
      "3887           0          1.6  \n",
      "3888           1          0.7  \n",
      "3889           1          0.8  \n",
      "3890           1          0.1  \n",
      "3891           1          0.7  \n"
     ]
    },
    {
     "name": "stderr",
     "output_type": "stream",
     "text": [
      "C:\\Users\\Owner\\AppData\\Local\\Temp\\ipykernel_7656\\3483202742.py:4: FutureWarning: Passing literal json to 'read_json' is deprecated and will be removed in a future version. To read from a literal string, wrap it in a 'StringIO' object.\n",
      "  champ_df= pd.read_json(json_str_champ)\n"
     ]
    }
   ],
   "source": [
    "params = {'division':'Championship'}\n",
    "response = requests.get(url, headers=headers, params=params)\n",
    "json_str_champ = response.content.decode('utf-8')\n",
    "champ_df= pd.read_json(json_str_champ)"
   ]
  },
  {
   "cell_type": "code",
   "execution_count": 41,
   "metadata": {},
   "outputs": [],
   "source": [
    "from datetime import datetime\n",
    "\n",
    "df = pd.concat([prem_df, champ_df])\n",
    "\n",
    "# Separates out the home vs away and allows every team to have an individual row of data. Allows us to feature engineer home effect easier.\n",
    "home_df = df[[\"division\", \"season\", \"match_date\",\n",
    "             \"home_team\", \"home_avg_market_value\", \"home_goals\", \"home_xgoals\",\n",
    "             \"away_team\", \"away_avg_market_value\", \"away_goals\", \"away_xgoals\"]].copy()\n",
    "home_df[\"home?\"] = 1\n",
    "\n",
    "home_df = home_df.rename(columns={\"home_team\":\"team\", \"home_avg_market_value\":\"avg_market_value\", \"home_goals\":\"goals\", \"home_xgoals\":\"xG\",\n",
    "             \"away_team\":\"opponent_team\", \"away_avg_market_value\":\"opponent_avg_market_value\", \"away_goals\":\"opponent_goals\", \"away_xgoals\": \"opponent_xG\"})\n",
    "\n",
    "away_df = df[[\"division\", \"season\", \"match_date\",\n",
    "                \"away_team\", \"away_avg_market_value\", \"away_goals\", \"away_xgoals\",\n",
    "                \"home_team\", \"home_avg_market_value\", \"home_goals\", \"home_xgoals\"]].copy()\n",
    "away_df[\"home?\"] = 0\n",
    "\n",
    "away_df = away_df.rename(columns={\"away_team\":\"team\", \"away_avg_market_value\":\"avg_market_value\", \"away_goals\":\"goals\", \"away_xgoals\":\"xG\",\n",
    "             \"home_team\":\"opponent_team\", \"home_avg_market_value\":\"opponent_avg_market_value\", \"home_goals\":\"opponent_goals\", \"home_xgoals\": \"opponent_xG\"})\n",
    "\n",
    "df = pd.concat([away_df, home_df])\n",
    "df.sort_values([\"match_date\", \"division\"], inplace=True)\n",
    "\n",
    "# Create a unique identifier for each game, so even though matches are now duplicated, they have the same id.\n",
    "df[\"match_id\"] = df.apply(\n",
    "    lambda row: \"-\".join(sorted([row[\"division\"], str(row[\"season\"]), str(row['match_date']), row['team'], row['opponent_team']])),\n",
    "    axis=1\n",
    ") # This applies a function to each row that creates a list out of the above columns, sorts and sorts them in alphabetical order.\n",
    "  # It then joins the contents of the strings to create a unique ID like: 2014-2014-08-08-Ligue 1-Paris SG-Reims\n",
    "\n",
    "df[\"match_id\"] = df[\"match_id\"].apply(hash) # This then hashes the string ID into a numeric value.\n",
    "\n",
    "df[\"match_date\"] = pd.to_datetime(df[\"match_date\"])\n",
    "df[\"days_since\"] = (datetime.now() - df[\"match_date\"]).dt.days.astype(float)"
   ]
  },
  {
   "cell_type": "code",
   "execution_count": 42,
   "metadata": {},
   "outputs": [],
   "source": [
    "#TODO:  Placeholder to transform target variable to log scaled."
   ]
  }
 ],
 "metadata": {
  "kernelspec": {
   "display_name": "Python 3",
   "language": "python",
   "name": "python3"
  },
  "language_info": {
   "codemirror_mode": {
    "name": "ipython",
    "version": 3
   },
   "file_extension": ".py",
   "mimetype": "text/x-python",
   "name": "python",
   "nbconvert_exporter": "python",
   "pygments_lexer": "ipython3",
   "version": "3.12.2"
  }
 },
 "nbformat": 4,
 "nbformat_minor": 2
}
