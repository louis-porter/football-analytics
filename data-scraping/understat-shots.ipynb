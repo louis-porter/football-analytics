{
 "cells": [
  {
   "cell_type": "code",
   "execution_count": 14,
   "metadata": {},
   "outputs": [],
   "source": [
    "import requests\n",
    "from bs4 import BeautifulSoup\n",
    "import json\n",
    "import pandas as pd"
   ]
  },
  {
   "cell_type": "code",
   "execution_count": 15,
   "metadata": {},
   "outputs": [],
   "source": [
    "#Scrape a speific players shots\n",
    "base_url = 'https://understat.com/player/'\n",
    "player = str(input('Please enter player id:'))\n",
    "url = base_url + player"
   ]
  },
  {
   "cell_type": "code",
   "execution_count": 16,
   "metadata": {},
   "outputs": [
    {
     "data": {
      "text/plain": [
       "'https://understat.com/player/8260'"
      ]
     },
     "execution_count": 16,
     "metadata": {},
     "output_type": "execute_result"
    }
   ],
   "source": [
    "url"
   ]
  },
  {
   "cell_type": "code",
   "execution_count": 17,
   "metadata": {},
   "outputs": [],
   "source": [
    "#Parse the page\n",
    "res = requests.get(url)\n",
    "soup = BeautifulSoup(res.content,'lxml')\n",
    "scripts = soup.find_all('script')"
   ]
  },
  {
   "cell_type": "code",
   "execution_count": 18,
   "metadata": {},
   "outputs": [],
   "source": [
    "#get just the Shots Data\n",
    "strings = scripts[3].string"
   ]
  },
  {
   "cell_type": "code",
   "execution_count": 19,
   "metadata": {},
   "outputs": [],
   "source": [
    "# strip unnecessary symbols and get only JSON data \n",
    "ind_start = strings.index(\"('\")+2 \n",
    "ind_end = strings.index(\"')\") \n",
    "json_data = strings[ind_start:ind_end] \n",
    "json_data = json_data.encode('utf8').decode('unicode_escape')\n",
    "\n",
    "#convert string to json format\n",
    "data = json.loads(json_data)"
   ]
  },
  {
   "cell_type": "code",
   "execution_count": 20,
   "metadata": {},
   "outputs": [],
   "source": [
    "x = []\n",
    "y = []\n",
    "xG = []\n",
    "season = []\n",
    "result = []\n",
    "\n",
    "\n",
    "for index in range(len(data)):\n",
    "    for key in data[index]:\n",
    "        if key == 'X':\n",
    "            x.append(data[index][key])\n",
    "        if key == 'Y':\n",
    "            y.append(data[index][key])\n",
    "        if key == 'xG':\n",
    "            xG.append(data[index][key])\n",
    "        if key == 'season':\n",
    "            season.append(data[index][key])\n",
    "        if key == 'result':\n",
    "            result.append(data[index][key])"
   ]
  },
  {
   "cell_type": "code",
   "execution_count": 21,
   "metadata": {},
   "outputs": [],
   "source": [
    "col_names = ['x','y','xG','season','result']\n",
    "df = pd.DataFrame([x,y,xG,season,result],index=col_names)\n",
    "df = df.T\n"
   ]
  },
  {
   "cell_type": "code",
   "execution_count": 22,
   "metadata": {},
   "outputs": [
    {
     "data": {
      "text/html": [
       "<div>\n",
       "<style scoped>\n",
       "    .dataframe tbody tr th:only-of-type {\n",
       "        vertical-align: middle;\n",
       "    }\n",
       "\n",
       "    .dataframe tbody tr th {\n",
       "        vertical-align: top;\n",
       "    }\n",
       "\n",
       "    .dataframe thead th {\n",
       "        text-align: right;\n",
       "    }\n",
       "</style>\n",
       "<table border=\"1\" class=\"dataframe\">\n",
       "  <thead>\n",
       "    <tr style=\"text-align: right;\">\n",
       "      <th></th>\n",
       "      <th>x</th>\n",
       "      <th>y</th>\n",
       "      <th>xG</th>\n",
       "      <th>season</th>\n",
       "      <th>result</th>\n",
       "    </tr>\n",
       "  </thead>\n",
       "  <tbody>\n",
       "    <tr>\n",
       "      <th>0</th>\n",
       "      <td>0.8880000305175781</td>\n",
       "      <td>0.6659999847412109</td>\n",
       "      <td>0.07933320105075836</td>\n",
       "      <td>2019</td>\n",
       "      <td>Goal</td>\n",
       "    </tr>\n",
       "    <tr>\n",
       "      <th>1</th>\n",
       "      <td>0.98</td>\n",
       "      <td>0.48900001525878906</td>\n",
       "      <td>0.9206209778785706</td>\n",
       "      <td>2019</td>\n",
       "      <td>Goal</td>\n",
       "    </tr>\n",
       "    <tr>\n",
       "      <th>2</th>\n",
       "      <td>0.8830000305175781</td>\n",
       "      <td>0.34700000762939454</td>\n",
       "      <td>0.32283100485801697</td>\n",
       "      <td>2019</td>\n",
       "      <td>Goal</td>\n",
       "    </tr>\n",
       "    <tr>\n",
       "      <th>3</th>\n",
       "      <td>0.8859999847412109</td>\n",
       "      <td>0.639000015258789</td>\n",
       "      <td>0.11918099969625473</td>\n",
       "      <td>2019</td>\n",
       "      <td>BlockedShot</td>\n",
       "    </tr>\n",
       "    <tr>\n",
       "      <th>4</th>\n",
       "      <td>0.955</td>\n",
       "      <td>0.495</td>\n",
       "      <td>0.7466409802436829</td>\n",
       "      <td>2019</td>\n",
       "      <td>Goal</td>\n",
       "    </tr>\n",
       "    <tr>\n",
       "      <th>...</th>\n",
       "      <td>...</td>\n",
       "      <td>...</td>\n",
       "      <td>...</td>\n",
       "      <td>...</td>\n",
       "      <td>...</td>\n",
       "    </tr>\n",
       "    <tr>\n",
       "      <th>465</th>\n",
       "      <td>0.8730000305175781</td>\n",
       "      <td>0.5729999923706055</td>\n",
       "      <td>0.20122335851192474</td>\n",
       "      <td>2024</td>\n",
       "      <td>Goal</td>\n",
       "    </tr>\n",
       "    <tr>\n",
       "      <th>466</th>\n",
       "      <td>0.8830000305175781</td>\n",
       "      <td>0.4379999923706055</td>\n",
       "      <td>0.11676666885614395</td>\n",
       "      <td>2024</td>\n",
       "      <td>SavedShot</td>\n",
       "    </tr>\n",
       "    <tr>\n",
       "      <th>467</th>\n",
       "      <td>0.875999984741211</td>\n",
       "      <td>0.6370000076293946</td>\n",
       "      <td>0.09604690968990326</td>\n",
       "      <td>2024</td>\n",
       "      <td>SavedShot</td>\n",
       "    </tr>\n",
       "    <tr>\n",
       "      <th>468</th>\n",
       "      <td>0.855</td>\n",
       "      <td>0.555</td>\n",
       "      <td>0.10396827757358551</td>\n",
       "      <td>2024</td>\n",
       "      <td>BlockedShot</td>\n",
       "    </tr>\n",
       "    <tr>\n",
       "      <th>469</th>\n",
       "      <td>0.9109999847412109</td>\n",
       "      <td>0.55</td>\n",
       "      <td>0.14320024847984314</td>\n",
       "      <td>2024</td>\n",
       "      <td>ShotOnPost</td>\n",
       "    </tr>\n",
       "  </tbody>\n",
       "</table>\n",
       "<p>470 rows × 5 columns</p>\n",
       "</div>"
      ],
      "text/plain": [
       "                      x                    y                   xG season  \\\n",
       "0    0.8880000305175781   0.6659999847412109  0.07933320105075836   2019   \n",
       "1                  0.98  0.48900001525878906   0.9206209778785706   2019   \n",
       "2    0.8830000305175781  0.34700000762939454  0.32283100485801697   2019   \n",
       "3    0.8859999847412109    0.639000015258789  0.11918099969625473   2019   \n",
       "4                 0.955                0.495   0.7466409802436829   2019   \n",
       "..                  ...                  ...                  ...    ...   \n",
       "465  0.8730000305175781   0.5729999923706055  0.20122335851192474   2024   \n",
       "466  0.8830000305175781   0.4379999923706055  0.11676666885614395   2024   \n",
       "467   0.875999984741211   0.6370000076293946  0.09604690968990326   2024   \n",
       "468               0.855                0.555  0.10396827757358551   2024   \n",
       "469  0.9109999847412109                 0.55  0.14320024847984314   2024   \n",
       "\n",
       "          result  \n",
       "0           Goal  \n",
       "1           Goal  \n",
       "2           Goal  \n",
       "3    BlockedShot  \n",
       "4           Goal  \n",
       "..           ...  \n",
       "465         Goal  \n",
       "466    SavedShot  \n",
       "467    SavedShot  \n",
       "468  BlockedShot  \n",
       "469   ShotOnPost  \n",
       "\n",
       "[470 rows x 5 columns]"
      ]
     },
     "execution_count": 22,
     "metadata": {},
     "output_type": "execute_result"
    }
   ],
   "source": [
    "df"
   ]
  },
  {
   "cell_type": "code",
   "execution_count": 23,
   "metadata": {},
   "outputs": [],
   "source": [
    "df.to_csv('HaalandShots.csv')"
   ]
  }
 ],
 "metadata": {
  "kernelspec": {
   "display_name": "Python 3",
   "language": "python",
   "name": "python3"
  },
  "language_info": {
   "codemirror_mode": {
    "name": "ipython",
    "version": 3
   },
   "file_extension": ".py",
   "mimetype": "text/x-python",
   "name": "python",
   "nbconvert_exporter": "python",
   "pygments_lexer": "ipython3",
   "version": "3.12.2"
  }
 },
 "nbformat": 4,
 "nbformat_minor": 2
}
