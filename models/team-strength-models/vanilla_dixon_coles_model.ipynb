{
 "cells": [
  {
   "cell_type": "code",
   "execution_count": 18,
   "metadata": {},
   "outputs": [
    {
     "name": "stderr",
     "output_type": "stream",
     "text": [
      "C:\\Users\\Owner\\AppData\\Local\\Temp\\ipykernel_12268\\252149294.py:15: FutureWarning: Passing literal json to 'read_json' is deprecated and will be removed in a future version. To read from a literal string, wrap it in a 'StringIO' object.\n",
      "  data= pd.read_json(json_str)\n"
     ]
    },
    {
     "name": "stdout",
     "output_type": "stream",
     "text": [
      "     match_date       home_team      away_team  home_goals  home_xgoals  \\\n",
      "375  2024-05-19        Man City       West Ham           3      2.31504   \n",
      "376  2024-05-19       Liverpool         Wolves           2      5.65937   \n",
      "377  2024-05-19         Burnley  Nott'm Forest           1      1.08222   \n",
      "378  2024-05-19  Crystal Palace    Aston Villa           5      2.23189   \n",
      "379  2024-05-19           Luton         Fulham           2      2.06743   \n",
      "\n",
      "     away_goals  away_xgoals  \n",
      "375           1     0.240159  \n",
      "376           0     0.731254  \n",
      "377           2     1.579620  \n",
      "378           0     0.598846  \n",
      "379           4     1.115980  \n"
     ]
    }
   ],
   "source": [
    "import numpy as np\n",
    "import pandas as pd\n",
    "from scipy.optimize import minimize\n",
    "from scipy.stats import poisson\n",
    "import requests\n",
    "import json\n",
    "import os\n",
    "\n",
    "API_KEY = os.getenv(\"API_KEY\")\n",
    "url = 'https://data-service.beatthebookie.blog/data'\n",
    "headers = {\"x-api-key\": API_KEY}\n",
    "params = {'division':'Premier League', 'season': ['2023_2024']}\n",
    "response = requests.get(url, headers=headers, params=params)\n",
    "json_str = response.content.decode('utf-8')\n",
    "data= pd.read_json(json_str)\n",
    "print(data[[\"match_date\", \"home_team\", \"away_team\", \"home_goals\", \"home_xgoals\", \"away_goals\", \"away_xgoals\"]].tail())\n",
    "\n",
    "# Prepare the Data\n",
    "teams = np.sort(np.unique(np.concatenate([data['home_team'], data['away_team']])))\n",
    "team_idx = {team: i for i, team in enumerate(teams)}\n",
    "\n",
    "data['home_team_idx'] = data['home_team'].map(team_idx)\n",
    "data['away_team_idx'] = data['away_team'].map(team_idx)\n",
    "\n",
    "# Build the Model\n",
    "def dc_log_likelihood(params, home_team_idx, away_team_idx, home_goals, away_goals, n_teams, rho=0.001):\n",
    "    # Extract parameters\n",
    "    home_adv = params[0]\n",
    "    attack = params[1:n_teams+1]\n",
    "    defense = params[n_teams+1:2*n_teams+1]\n",
    "\n",
    "    log_likelihood = 0\n",
    "    \n",
    "    for i in range(len(home_team_idx)):\n",
    "        h = home_team_idx[i]\n",
    "        a = away_team_idx[i]\n",
    "        \n",
    "        home_mu = np.exp(attack[h] + defense[a] + home_adv)\n",
    "        away_mu = np.exp(attack[a] + defense[h])\n",
    "        \n",
    "        # Dixon-Coles adjustment for low-scoring games\n",
    "        if home_goals[i] == 0 and away_goals[i] == 0:\n",
    "            adjust = -home_mu * away_mu * rho\n",
    "        elif home_goals[i] == 1 and away_goals[i] == 0:\n",
    "            adjust = rho * home_mu\n",
    "        elif home_goals[i] == 0 and away_goals[i] == 1:\n",
    "            adjust = rho * away_mu\n",
    "        elif home_goals[i] == 1 and away_goals[i] == 1:\n",
    "            adjust = -rho\n",
    "        else:\n",
    "            adjust = 0\n",
    "        \n",
    "        log_likelihood += (np.log(poisson.pmf(home_goals[i], home_mu)) +\n",
    "                           np.log(poisson.pmf(away_goals[i], away_mu)) +\n",
    "                           adjust)\n",
    "\n",
    "    return -log_likelihood\n",
    "\n",
    "# Initialize parameters\n",
    "n_teams = len(teams)\n",
    "initial_params = np.concatenate((np.array([0.0]),  # Home advantage\n",
    "                                 np.random.uniform(0, 1, n_teams),  # Attack strengths\n",
    "                                 np.random.uniform(0, 1, n_teams))) # Defense strengths\n",
    "\n",
    "# Optimize the Parameters\n",
    "result = minimize(dc_log_likelihood, initial_params,\n",
    "                  args=(data['home_team_idx'], data['away_team_idx'],\n",
    "                        data['home_goals'], data['away_goals'], n_teams),\n",
    "                  method='L-BFGS-B')\n",
    "\n",
    "# Extract the optimized parameters\n",
    "home_advantage = result.x[0]\n",
    "attack_strengths = result.x[1:n_teams+1]\n",
    "defense_strengths = result.x[n_teams+1:2*n_teams+1]\n",
    "\n",
    "# Evaluate and Predict (Example Prediction)\n",
    "def predict(home_team, away_team):\n",
    "    h = team_idx[home_team]\n",
    "    a = team_idx[away_team]\n",
    "    \n",
    "    home_goals_avg = np.exp(attack_strengths[h] + defense_strengths[a] + home_advantage)\n",
    "    away_goals_avg = np.exp(attack_strengths[a] + defense_strengths[h])\n",
    "    \n",
    "    home_goals_dist = poisson(home_goals_avg)\n",
    "    away_goals_dist = poisson(away_goals_avg)\n",
    "    \n",
    "    return home_goals_dist, away_goals_dist\n",
    "\n",
    "# Create a DataFrame to display attack and defense strengths\n",
    "team_strengths = pd.DataFrame({\n",
    "    'Team': teams,\n",
    "    'Attack Strength': attack_strengths,\n",
    "    'Defense Strength': defense_strengths,\n",
    "    'Overall Strength': attack_strengths - defense_strengths\n",
    "})\n"
   ]
  },
  {
   "cell_type": "code",
   "execution_count": 19,
   "metadata": {},
   "outputs": [
    {
     "name": "stdout",
     "output_type": "stream",
     "text": [
      "                Team  Attack Strength  Defense Strength  Overall Strength\n",
      "0            Arsenal         0.502664         -0.499169          1.001833\n",
      "12          Man City         0.560490         -0.335537          0.896027\n",
      "10         Liverpool         0.456115         -0.156406          0.612521\n",
      "14         Newcastle         0.462517          0.257706          0.204812\n",
      "1        Aston Villa         0.349277          0.233535          0.115742\n",
      "6            Chelsea         0.364044          0.266779          0.097265\n",
      "17         Tottenham         0.322492          0.231828          0.090664\n",
      "13        Man United         0.058259          0.166862         -0.108603\n",
      "7     Crystal Palace         0.058174          0.166780         -0.108607\n",
      "9             Fulham         0.024856          0.215670         -0.190813\n",
      "4           Brighton         0.025663          0.231858         -0.206196\n",
      "3          Brentford         0.046260          0.280275         -0.234015\n",
      "18          West Ham         0.123150          0.413620         -0.290470\n",
      "2        Bournemouth         0.011557          0.308866         -0.297309\n",
      "8            Everton        -0.302364          0.023801         -0.326166\n",
      "19            Wolves        -0.067228          0.275138         -0.342366\n",
      "15     Nott'm Forest        -0.085862          0.304705         -0.390567\n",
      "11             Luton        -0.010897          0.545904         -0.556801\n",
      "5            Burnley        -0.255206          0.450331         -0.705537\n",
      "16  Sheffield United        -0.391628          0.733643         -1.125271\n"
     ]
    }
   ],
   "source": [
    "# Display the results\n",
    "print(team_strengths.sort_values(by=\"Overall Strength\", ascending=False))"
   ]
  },
  {
   "cell_type": "code",
   "execution_count": 20,
   "metadata": {},
   "outputs": [
    {
     "name": "stdout",
     "output_type": "stream",
     "text": [
      "Expected goals for home: 0.8356343941534056\n",
      "Expected goals for away: 2.499984573631381\n"
     ]
    }
   ],
   "source": [
    "# Example prediction\n",
    "home_goals_dist, away_goals_dist = predict('West Ham', 'Arsenal')\n",
    "print(f\"Expected goals for home: {home_goals_dist.mean()}\")\n",
    "print(f\"Expected goals for away: {away_goals_dist.mean()}\")"
   ]
  }
 ],
 "metadata": {
  "kernelspec": {
   "display_name": "Python 3",
   "language": "python",
   "name": "python3"
  },
  "language_info": {
   "codemirror_mode": {
    "name": "ipython",
    "version": 3
   },
   "file_extension": ".py",
   "mimetype": "text/x-python",
   "name": "python",
   "nbconvert_exporter": "python",
   "pygments_lexer": "ipython3",
   "version": "3.12.2"
  }
 },
 "nbformat": 4,
 "nbformat_minor": 2
}
