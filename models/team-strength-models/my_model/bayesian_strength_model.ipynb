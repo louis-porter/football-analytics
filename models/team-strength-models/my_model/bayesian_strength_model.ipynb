{
 "cells": [
  {
   "cell_type": "code",
   "execution_count": 3,
   "metadata": {},
   "outputs": [],
   "source": [
    "import pymc as pm\n",
    "import numpy as np\n",
    "import pandas as pd\n",
    "import os\n",
    "import requests\n",
    "import io\n",
    "\n",
    "# get data\n",
    "API_KEY = os.getenv(\"API_KEY\")\n",
    "url = 'https://data-service.beatthebookie.blog/data'\n",
    "headers = {\"x-api-key\": API_KEY}\n",
    "\n",
    "# Function to fetch data for a specific division and season\n",
    "def fetch_data(division, season):\n",
    "    params = {\n",
    "        'division': division,\n",
    "        'season': season\n",
    "    }\n",
    "    response = requests.get(url, headers=headers, params=params)\n",
    "    if response.status_code == 200:\n",
    "        return pd.read_json(io.StringIO(response.content.decode('utf-8')))\n",
    "    else:\n",
    "        print(f\"Error fetching {division} {season}: {response.status_code}\")\n",
    "        print(response.content.decode('utf-8'))\n",
    "        return pd.DataFrame()\n",
    "\n",
    "# Fetch data for all combinations\n",
    "seasons = ['2024_2025']\n",
    "divisions = ['Premier League']\n",
    "dataframes = []\n",
    "\n",
    "for division in divisions:\n",
    "    for season in seasons:\n",
    "        df = fetch_data(division, season)\n",
    "        if not df.empty:\n",
    "            dataframes.append(df)\n",
    "\n",
    "# Combine all dataframes\n",
    "if dataframes:\n",
    "    df = pd.concat(dataframes, ignore_index=True)\n",
    "    \n",
    "    # Convert match_date to datetime\n",
    "    df['match_date'] = pd.to_datetime(df['match_date'])"
   ]
  },
  {
   "cell_type": "code",
   "execution_count": 4,
   "metadata": {},
   "outputs": [],
   "source": [
    "# build model\n",
    "\n",
    "def build_bayesian_model(home_teams, away_teams, home_goals, away_goals):\n",
    "    # get unique teams\n",
    "    teams = sorted(list(set(home_teams) | set(away_teams))) # alphabetically sorts and de-dupes list of team names\n",
    "    team_indices = {team: idx for idx, team in enumerate(teams)} # sets index values for each team within a dict\n",
    "\n",
    "    # convert team names to index vals\n",
    "    home_idx = [team_indices[team] for team in home_teams]\n",
    "    away_idx = [team_indices[team] for team in away_teams]\n",
    "\n",
    "    with pm.Model() as model:\n",
    "        # team strength initalisation\n",
    "        attack = pm.Normal(\"attack\", mu=0, sigma=0.3, shape=len(teams)) # initalising normal distribution for relative attacking strength with mean 0 and std of 0.3\n",
    "        defense = pm.Normal('defense', mu=0, sigma=0.3, shape=len(teams))\n",
    "\n",
    "        # initalise home advantage\n",
    "        home_advantage = pm.Normal(\"home_advantage\", mu=0.2, sigma=0.1) # initalises home_adv to 0.2 and has std of 0.1 so val can extend or reduce that much\n",
    "\n",
    "        # expected goals\n",
    "        home_theta = pm.math.exp(attack[home_idx] - defense[away_idx] + home_advantage) # we use exponential so it's always positive and team strengths are multiplicative\n",
    "        away_theta = pm.math.exp(attack[away_idx] - defense[home_idx])\n",
    "\n",
    "        # goals likelihood\n",
    "        home_goals_like = pm.Poisson(\"home_goals\", mu=home_theta, observed=home_goals) # the likelihood function modelling goals on a Poisson distribution\n",
    "        away_goals_like = pm.Poisson(\"away_goals\", mu=away_theta, observed=away_goals)\n",
    "\n",
    "    return model, team_indices\n",
    "\n",
    "def fit_bayesian_model(model, draws=1000):\n",
    "    with model:\n",
    "        trace = pm.sample(draws=draws) # x draws means the MCMC is generating x different sets of parameters that are ALL plausible given our data, with more likely parameter sets appearing more frequently in our draws.\n",
    "    return trace\n",
    "\n",
    "\n",
    "def get_team_strengths(trace, team_indices):\n",
    "    teams = list(team_indices.keys())\n",
    "    attack_means = np.mean(trace.posterior['attack'], axis=(0,1))\n",
    "    defense_means = np.mean(trace.posterior['defense'], axis=(0,1))\n",
    "    \n",
    "    # Create DataFrame with better formatting\n",
    "    results = pd.DataFrame({\n",
    "        'team': teams,\n",
    "        'attack_strength': attack_means,\n",
    "        'defense_strength': defense_means\n",
    "    })\n",
    "    \n",
    "    # Round the values and sort by attack strength\n",
    "    results = results.round(3).sort_values('attack_strength', ascending=False)\n",
    "    \n",
    "    return results\n",
    "    "
   ]
  },
  {
   "cell_type": "code",
   "execution_count": 6,
   "metadata": {},
   "outputs": [
    {
     "name": "stderr",
     "output_type": "stream",
     "text": [
      "Auto-assigning NUTS sampler...\n",
      "Initializing NUTS using jitter+adapt_diag...\n",
      "Multiprocess sampling (4 chains in 4 jobs)\n",
      "NUTS: [attack, defense, home_advantage]\n"
     ]
    },
    {
     "data": {
      "text/html": [
       "<pre style=\"white-space:pre;overflow-x:auto;line-height:normal;font-family:Menlo,'DejaVu Sans Mono',consolas,'Courier New',monospace\">c:\\Users\\Owner\\dev\\football-analytics\\.venv\\Lib\\site-packages\\rich\\live.py:231: UserWarning: install \"ipywidgets\" \n",
       "for Jupyter support\n",
       "  warnings.warn('install \"ipywidgets\" for Jupyter support')\n",
       "</pre>\n"
      ],
      "text/plain": [
       "c:\\Users\\Owner\\dev\\football-analytics\\.venv\\Lib\\site-packages\\rich\\live.py:231: UserWarning: install \"ipywidgets\" \n",
       "for Jupyter support\n",
       "  warnings.warn('install \"ipywidgets\" for Jupyter support')\n"
      ]
     },
     "metadata": {},
     "output_type": "display_data"
    },
    {
     "data": {
      "text/html": [
       "<pre style=\"white-space:pre;overflow-x:auto;line-height:normal;font-family:Menlo,'DejaVu Sans Mono',consolas,'Courier New',monospace\"></pre>\n"
      ],
      "text/plain": []
     },
     "metadata": {},
     "output_type": "display_data"
    },
    {
     "name": "stderr",
     "output_type": "stream",
     "text": [
      "Sampling 4 chains for 1_000 tune and 1_000 draw iterations (4_000 + 4_000 draws total) took 322 seconds.\n"
     ]
    },
    {
     "name": "stdout",
     "output_type": "stream",
     "text": [
      "\n",
      "Team Strengths:\n",
      "          team                                                                                          attack_strength                                                                                           defense_strength\n",
      "       Arsenal    <xarray.DataArray 'attack' ()> Size: 8B\\narray(0.3095619)\\nCoordinates:\\n    attack_dim_0  int32 4B 0   <xarray.DataArray 'defense' ()> Size: 8B\\narray(0.22268613)\\nCoordinates:\\n    defense_dim_0  int32 4B 0\n",
      "   Aston Villa   <xarray.DataArray 'attack' ()> Size: 8B\\narray(0.11556464)\\nCoordinates:\\n    attack_dim_0  int32 4B 1  <xarray.DataArray 'defense' ()> Size: 8B\\narray(-0.15549263)\\nCoordinates:\\n    defense_dim_0  int32 4B 1\n",
      "   Bournemouth    <xarray.DataArray 'attack' ()> Size: 8B\\narray(0.2937062)\\nCoordinates:\\n    attack_dim_0  int32 4B 2   <xarray.DataArray 'defense' ()> Size: 8B\\narray(0.07721247)\\nCoordinates:\\n    defense_dim_0  int32 4B 2\n",
      "     Brentford   <xarray.DataArray 'attack' ()> Size: 8B\\narray(0.29839308)\\nCoordinates:\\n    attack_dim_0  int32 4B 3  <xarray.DataArray 'defense' ()> Size: 8B\\narray(-0.25390151)\\nCoordinates:\\n    defense_dim_0  int32 4B 3\n",
      "      Brighton   <xarray.DataArray 'attack' ()> Size: 8B\\narray(0.14991578)\\nCoordinates:\\n    attack_dim_0  int32 4B 4  <xarray.DataArray 'defense' ()> Size: 8B\\narray(-0.06488629)\\nCoordinates:\\n    defense_dim_0  int32 4B 4\n",
      "       Chelsea   <xarray.DataArray 'attack' ()> Size: 8B\\narray(0.35707709)\\nCoordinates:\\n    attack_dim_0  int32 4B 5  <xarray.DataArray 'defense' ()> Size: 8B\\narray(-0.02494053)\\nCoordinates:\\n    defense_dim_0  int32 4B 5\n",
      "Crystal Palace  <xarray.DataArray 'attack' ()> Size: 8B\\narray(-0.09494568)\\nCoordinates:\\n    attack_dim_0  int32 4B 6  <xarray.DataArray 'defense' ()> Size: 8B\\narray(-0.01880046)\\nCoordinates:\\n    defense_dim_0  int32 4B 6\n",
      "       Everton  <xarray.DataArray 'attack' ()> Size: 8B\\narray(-0.24721783)\\nCoordinates:\\n    attack_dim_0  int32 4B 7   <xarray.DataArray 'defense' ()> Size: 8B\\narray(0.00089486)\\nCoordinates:\\n    defense_dim_0  int32 4B 7\n",
      "        Fulham   <xarray.DataArray 'attack' ()> Size: 8B\\narray(0.09376422)\\nCoordinates:\\n    attack_dim_0  int32 4B 8  <xarray.DataArray 'defense' ()> Size: 8B\\narray(-0.07165452)\\nCoordinates:\\n    defense_dim_0  int32 4B 8\n",
      "       Ipswich  <xarray.DataArray 'attack' ()> Size: 8B\\narray(-0.18875895)\\nCoordinates:\\n    attack_dim_0  int32 4B 9     <xarray.DataArray 'defense' ()> Size: 8B\\narray(-0.35558)\\nCoordinates:\\n    defense_dim_0  int32 4B 9\n",
      "     Leicester <xarray.DataArray 'attack' ()> Size: 8B\\narray(-0.09062559)\\nCoordinates:\\n    attack_dim_0  int32 4B 10   <xarray.DataArray 'defense' ()> Size: 8B\\narray(-0.423035)\\nCoordinates:\\n    defense_dim_0  int32 4B 10\n",
      "     Liverpool  <xarray.DataArray 'attack' ()> Size: 8B\\narray(0.53791999)\\nCoordinates:\\n    attack_dim_0  int32 4B 11  <xarray.DataArray 'defense' ()> Size: 8B\\narray(0.17264648)\\nCoordinates:\\n    defense_dim_0  int32 4B 11\n",
      "      Man City  <xarray.DataArray 'attack' ()> Size: 8B\\narray(0.37484522)\\nCoordinates:\\n    attack_dim_0  int32 4B 12 <xarray.DataArray 'defense' ()> Size: 8B\\narray(-0.02848063)\\nCoordinates:\\n    defense_dim_0  int32 4B 12\n",
      "    Man United <xarray.DataArray 'attack' ()> Size: 8B\\narray(-0.02640691)\\nCoordinates:\\n    attack_dim_0  int32 4B 13 <xarray.DataArray 'defense' ()> Size: 8B\\narray(-0.06858281)\\nCoordinates:\\n    defense_dim_0  int32 4B 13\n",
      "     Newcastle  <xarray.DataArray 'attack' ()> Size: 8B\\narray(0.25001324)\\nCoordinates:\\n    attack_dim_0  int32 4B 14   <xarray.DataArray 'defense' ()> Size: 8B\\narray(0.0479478)\\nCoordinates:\\n    defense_dim_0  int32 4B 14\n",
      " Nott'm Forest  <xarray.DataArray 'attack' ()> Size: 8B\\narray(0.08374134)\\nCoordinates:\\n    attack_dim_0  int32 4B 15   <xarray.DataArray 'defense' ()> Size: 8B\\narray(0.0638164)\\nCoordinates:\\n    defense_dim_0  int32 4B 15\n",
      "   Southampton <xarray.DataArray 'attack' ()> Size: 8B\\narray(-0.35166174)\\nCoordinates:\\n    attack_dim_0  int32 4B 16 <xarray.DataArray 'defense' ()> Size: 8B\\narray(-0.47647635)\\nCoordinates:\\n    defense_dim_0  int32 4B 16\n",
      "     Tottenham  <xarray.DataArray 'attack' ()> Size: 8B\\narray(0.38135204)\\nCoordinates:\\n    attack_dim_0  int32 4B 17 <xarray.DataArray 'defense' ()> Size: 8B\\narray(-0.20624632)\\nCoordinates:\\n    defense_dim_0  int32 4B 17\n",
      "      West Ham <xarray.DataArray 'attack' ()> Size: 8B\\narray(-0.01124167)\\nCoordinates:\\n    attack_dim_0  int32 4B 18 <xarray.DataArray 'defense' ()> Size: 8B\\narray(-0.32853733)\\nCoordinates:\\n    defense_dim_0  int32 4B 18\n",
      "        Wolves  <xarray.DataArray 'attack' ()> Size: 8B\\narray(0.11481704)\\nCoordinates:\\n    attack_dim_0  int32 4B 19 <xarray.DataArray 'defense' ()> Size: 8B\\narray(-0.45769933)\\nCoordinates:\\n    defense_dim_0  int32 4B 19\n"
     ]
    }
   ],
   "source": [
    "data = df[[\"home_team\", \"away_team\", \"home_goals\", \"away_goals\"]]\n",
    "\n",
    "# Build model\n",
    "model, team_indices = build_bayesian_model(\n",
    "        home_teams=data['home_team'],\n",
    "        away_teams=data['away_team'],\n",
    "        home_goals=np.array(data['home_goals']),\n",
    "        away_goals=np.array(data['away_goals'])\n",
    "    )\n",
    "    \n",
    "# Fit model\n",
    "trace = fit_bayesian_model(model)\n",
    "    \n",
    "# Get results\n",
    "strengths = get_team_strengths(trace, team_indices)\n",
    "print(\"\\nTeam Strengths:\")\n",
    "print(strengths.to_string(index=False))"
   ]
  }
 ],
 "metadata": {
  "kernelspec": {
   "display_name": ".venv",
   "language": "python",
   "name": "python3"
  },
  "language_info": {
   "codemirror_mode": {
    "name": "ipython",
    "version": 3
   },
   "file_extension": ".py",
   "mimetype": "text/x-python",
   "name": "python",
   "nbconvert_exporter": "python",
   "pygments_lexer": "ipython3",
   "version": "3.12.2"
  }
 },
 "nbformat": 4,
 "nbformat_minor": 2
}
