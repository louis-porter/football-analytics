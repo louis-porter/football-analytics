{
 "cells": [
  {
   "cell_type": "markdown",
   "metadata": {},
   "source": [
    "# Vanilla Goals Poisson Model\n",
    "\n",
    "This model was adapted using the blog post from: https://pena.lt/y/2021/06/18/predicting-football-results-using-the-poisson-distribution/\n",
    "\n",
    "and using data from https://beatthebookie.blog/"
   ]
  },
  {
   "cell_type": "code",
   "execution_count": 2,
   "metadata": {},
   "outputs": [
    {
     "name": "stdout",
     "output_type": "stream",
     "text": [
      "     match_date       home_team      away_team  home_goals  home_xgoals  \\\n",
      "375  2024-05-19        Man City       West Ham           3      2.31504   \n",
      "376  2024-05-19       Liverpool         Wolves           2      5.65937   \n",
      "377  2024-05-19         Burnley  Nott'm Forest           1      1.08222   \n",
      "378  2024-05-19  Crystal Palace    Aston Villa           5      2.23189   \n",
      "379  2024-05-19           Luton         Fulham           2      2.06743   \n",
      "\n",
      "     away_goals  away_xgoals  \n",
      "375           1     0.240159  \n",
      "376           0     0.731254  \n",
      "377           2     1.579620  \n",
      "378           0     0.598846  \n",
      "379           4     1.115980  \n"
     ]
    },
    {
     "name": "stderr",
     "output_type": "stream",
     "text": [
      "C:\\Users\\Owner\\AppData\\Local\\Temp\\ipykernel_21876\\3492366088.py:13: FutureWarning: Passing literal json to 'read_json' is deprecated and will be removed in a future version. To read from a literal string, wrap it in a 'StringIO' object.\n",
      "  df = pd.read_json(json_str)\n"
     ]
    }
   ],
   "source": [
    "import pandas as pd\n",
    "import requests\n",
    "import pandas as pd\n",
    "import json\n",
    "import os\n",
    "\n",
    "API_KEY = os.getenv(\"API_KEY\")\n",
    "url = 'https://data-service.beatthebookie.blog/data'\n",
    "headers = {\"x-api-key\": API_KEY}\n",
    "params = {'division':'Premier League', 'season': ['2023_2024']}\n",
    "response = requests.get(url, headers=headers, params=params)\n",
    "json_str = response.content.decode('utf-8')\n",
    "df = pd.read_json(json_str)\n",
    "print(df[[\"match_date\", \"home_team\", \"away_team\", \"home_goals\", \"home_xgoals\", \"away_goals\", \"away_xgoals\"]].tail())"
   ]
  },
  {
   "cell_type": "code",
   "execution_count": 3,
   "metadata": {},
   "outputs": [],
   "source": [
    "import numpy as np\n",
    "from scipy.stats import poisson\n",
    "\n",
    "\n",
    "def log_likelihood(\n",
    "        goals_home_observed,\n",
    "        goals_away_observed,\n",
    "        home_attack,\n",
    "        home_defence,\n",
    "        away_attack,\n",
    "        away_defence,\n",
    "        home_advantage\n",
    "):\n",
    "    \n",
    "    # Using exponential to convert log-liklihood back to real number\n",
    "    goal_expectation_home = np.exp(home_attack + away_defence + home_advantage)\n",
    "    goal_expectation_away = np.exp(away_attack + home_defence)\n",
    "\n",
    "    # If expectation is below 0 then tell model that it's bad by increasing log likelihood\n",
    "    if goal_expectation_home < 0 or goal_expectation_away < 0: \n",
    "        return 10000\n",
    "    \n",
    "    # Poisson model to calculate probability that team scores goals observed given the model's expectation\n",
    "    home_llk = poisson.pmf(goals_home_observed, goal_expectation_home)\n",
    "    away_llk = poisson.pmf(goals_away_observed, goal_expectation_away)\n",
    "\n",
    "    # Calculates total log liklihood for the match, the higher the value the better\n",
    "    log_llk = np.log(home_llk) + np.log(away_llk)\n",
    "\n",
    "    # Returning negative as we are using minimiser function later.\n",
    "    return -log_llk"
   ]
  },
  {
   "cell_type": "code",
   "execution_count": 4,
   "metadata": {},
   "outputs": [
    {
     "name": "stderr",
     "output_type": "stream",
     "text": [
      "C:\\Users\\Owner\\AppData\\Local\\Temp\\ipykernel_21876\\2426976989.py:28: RuntimeWarning: divide by zero encountered in log\n",
      "  log_llk = np.log(home_llk) + np.log(away_llk)\n"
     ]
    }
   ],
   "source": [
    "from scipy.optimize import minimize\n",
    "\n",
    "def fit_poisson_model():\n",
    "    # Generate list of unique teams in dataframe and get number of teams\n",
    "    teams = np.sort(np.unique(np.concatenate([df[\"home_team\"], df[\"away_team\"]])))\n",
    "    n_teams = len(teams)\n",
    "\n",
    "    # Generate random model default values for attack and defence strength for each team and add a 0.25 value for home advantage\n",
    "    params = np.concatenate(\n",
    "        (\n",
    "            np.random.uniform(0.5, 1.5, (n_teams)), #attack strength\n",
    "            np.random.uniform(0.5, 1.5, (n_teams)), #defence strength\n",
    "            [0.25], #home advantage\n",
    "        )\n",
    "    )\n",
    "\n",
    "    def _fit(params, df, teams):\n",
    "        # Function to fit the model\n",
    "\n",
    "        # Creates dictionary to attach each team to their attack score (first 20 items), and defence score (next 20 items), and home adv. (last item)\n",
    "        attack_params = dict(zip(teams, params[:n_teams]))\n",
    "        defence_params = dict(zip(teams, params[n_teams : (2*n_teams)]))\n",
    "        home_advantage = params[-1]\n",
    "\n",
    "        # Create empty array, then loop through dataframe, and apply log_likelihood function with parameters from each row, append to array\n",
    "        llk = list()\n",
    "        for idx, row in df.iterrows():\n",
    "            tmp = log_likelihood(\n",
    "                row[\"home_goals\"],\n",
    "                row[\"away_goals\"],\n",
    "                attack_params[row[\"home_team\"]],\n",
    "                defence_params[row[\"home_team\"]],\n",
    "                attack_params[row[\"away_team\"]],\n",
    "                defence_params[row[\"away_team\"]],\n",
    "                home_advantage,\n",
    "            )\n",
    "            llk.append(tmp)\n",
    "        \n",
    "        # Return sum of log likelihood of all games\n",
    "        return np.sum(llk)\n",
    "\n",
    "    # Settings for optimization process, 100 iterations, do not display messages during run\n",
    "    options = {\n",
    "        \"maxiter\": 100,\n",
    "        \"disp\": False,\n",
    "    }\n",
    "\n",
    "    # equality constraint, this maintains baseline or standard scale across all teams\n",
    "    constraints = [{\"type\":\"eq\", \"fun\": lambda x: sum(x[:n_teams]) - n_teams}]\n",
    "\n",
    "    # Train model on functions above and data\n",
    "    res = minimize(\n",
    "        _fit,\n",
    "        params,\n",
    "        args=(df, teams),\n",
    "        constraints=constraints,\n",
    "        options=options\n",
    "    )\n",
    "\n",
    "    # Processing model results\n",
    "    model_params = dict(\n",
    "        zip(\n",
    "            [\"attack_\" + team for team in teams]\n",
    "            + [\"defence_\" + team for team in teams]\n",
    "            + [\"home_adv\"],\n",
    "            res[\"x\"]\n",
    "        )\n",
    "    )\n",
    "\n",
    "    return model_params\n",
    "\n",
    "model_params = fit_poisson_model()"
   ]
  },
  {
   "cell_type": "code",
   "execution_count": 5,
   "metadata": {},
   "outputs": [
    {
     "name": "stdout",
     "output_type": "stream",
     "text": [
      "{'attack_Arsenal': 1.3899655622119784,\n",
      " 'attack_Aston Villa': 1.2366178633697997,\n",
      " 'attack_Bournemouth': 0.898953386890275,\n",
      " 'attack_Brentford': 0.9337334585656074,\n",
      " 'attack_Brighton': 0.9131433215339007,\n",
      " 'attack_Burnley': 0.6321821063513595,\n",
      " 'attack_Chelsea': 1.2514588801510302,\n",
      " 'attack_Crystal Palace': 0.9455354598542196,\n",
      " 'attack_Everton': 0.5849274202440973,\n",
      " 'attack_Fulham': 0.9123508970432253,\n",
      " 'attack_Liverpool': 1.3435065122244272,\n",
      " 'attack_Luton': 0.87647956077264,\n",
      " 'attack_Man City': 1.4478166012833789,\n",
      " 'attack_Man United': 0.9455774845613523,\n",
      " 'attack_Newcastle': 1.349806055816141,\n",
      " \"attack_Nott'm Forest\": 0.8015980361062903,\n",
      " 'attack_Sheffield United': 0.49571468949385095,\n",
      " 'attack_Tottenham': 1.2098857462355457,\n",
      " 'attack_West Ham': 1.0105976244795385,\n",
      " 'attack_Wolves': 0.82014933281134,\n",
      " 'defence_Arsenal': -1.3865700510862706,\n",
      " 'defence_Aston Villa': -0.6538570863887184,\n",
      " 'defence_Bournemouth': -0.5784773017107556,\n",
      " 'defence_Brentford': -0.6072104685076984,\n",
      " 'defence_Brighton': -0.6554013823145413,\n",
      " 'defence_Burnley': -0.43710054615477206,\n",
      " 'defence_Chelsea': -0.6205918826765267,\n",
      " 'defence_Crystal Palace': -0.7205749408121561,\n",
      " 'defence_Everton': -0.8635511768985006,\n",
      " 'defence_Fulham': -0.6717028918923389,\n",
      " 'defence_Liverpool': -1.0437816227948304,\n",
      " 'defence_Luton': -0.34156405793288575,\n",
      " 'defence_Man City': -1.2229152462203146,\n",
      " 'defence_Man United': -0.7205619513260678,\n",
      " 'defence_Newcastle': -0.6297332452774361,\n",
      " \"defence_Nott'm Forest\": -0.5826934194876531,\n",
      " 'defence_Sheffield United': -0.15380392621752959,\n",
      " 'defence_Tottenham': -0.6555506867760651,\n",
      " 'defence_West Ham': -0.47373611242229946,\n",
      " 'defence_Wolves': -0.6122551672301022,\n",
      " 'home_adv': 0.19646900186809152}\n"
     ]
    }
   ],
   "source": [
    "from pprint import pprint\n",
    "\n",
    "pprint(model_params)"
   ]
  },
  {
   "cell_type": "code",
   "execution_count": 6,
   "metadata": {},
   "outputs": [],
   "source": [
    "def predict(home_team, away_team, params, max_goals=10):\n",
    "\n",
    "    home_attack = params[\"attack_\" + home_team]\n",
    "    home_defence = params[\"defence_\" + home_team]\n",
    "    away_attack = params[\"attack_\" + away_team]\n",
    "    away_defence = params[\"defence_\" + away_team]\n",
    "    home_advantage = params[\"home_adv\"]\n",
    "\n",
    "    home_goal_expectation = np.exp(home_attack + away_defence + home_advantage)\n",
    "    away_goal_expectation = np.exp(away_attack + home_defence)\n",
    "\n",
    "    home_probs = poisson.pmf(list(range(max_goals + 1)), home_goal_expectation)\n",
    "    away_probs = poisson.pmf(range(max_goals + 1), away_goal_expectation)\n",
    "\n",
    "    # outer product of home_probs and away_probs vectors to create matrix where each entry is product of both probabilities for each scoreline\n",
    "    probability_matrix = np.outer(home_probs, away_probs)\n",
    "\n",
    "    return probability_matrix\n"
   ]
  },
  {
   "cell_type": "code",
   "execution_count": 7,
   "metadata": {},
   "outputs": [
    {
     "name": "stdout",
     "output_type": "stream",
     "text": [
      "array([[0.04486, 0.09350, 0.09744, 0.06769, 0.03527, 0.01470, 0.00511,\n",
      "        0.00152, 0.00040, 0.00009, 0.00002],\n",
      "       [0.04575, 0.09536, 0.09938, 0.06905, 0.03598, 0.01500, 0.00521,\n",
      "        0.00155, 0.00040, 0.00009, 0.00002],\n",
      "       [0.02333, 0.04864, 0.05068, 0.03521, 0.01835, 0.00765, 0.00266,\n",
      "        0.00079, 0.00021, 0.00005, 0.00001],\n",
      "       [0.00793, 0.01654, 0.01723, 0.01197, 0.00624, 0.00260, 0.00090,\n",
      "        0.00027, 0.00007, 0.00002, 0.00000],\n",
      "       [0.00202, 0.00422, 0.00439, 0.00305, 0.00159, 0.00066, 0.00023,\n",
      "        0.00007, 0.00002, 0.00000, 0.00000],\n",
      "       [0.00041, 0.00086, 0.00090, 0.00062, 0.00032, 0.00014, 0.00005,\n",
      "        0.00001, 0.00000, 0.00000, 0.00000],\n",
      "       [0.00007, 0.00015, 0.00015, 0.00011, 0.00006, 0.00002, 0.00001,\n",
      "        0.00000, 0.00000, 0.00000, 0.00000],\n",
      "       [0.00001, 0.00002, 0.00002, 0.00002, 0.00001, 0.00000, 0.00000,\n",
      "        0.00000, 0.00000, 0.00000, 0.00000],\n",
      "       [0.00000, 0.00000, 0.00000, 0.00000, 0.00000, 0.00000, 0.00000,\n",
      "        0.00000, 0.00000, 0.00000, 0.00000],\n",
      "       [0.00000, 0.00000, 0.00000, 0.00000, 0.00000, 0.00000, 0.00000,\n",
      "        0.00000, 0.00000, 0.00000, 0.00000],\n",
      "       [0.00000, 0.00000, 0.00000, 0.00000, 0.00000, 0.00000, 0.00000,\n",
      "        0.00000, 0.00000, 0.00000, 0.00000]])\n"
     ]
    }
   ],
   "source": [
    "probs = predict(\"Tottenham\", \"Arsenal\", model_params)\n",
    "\n",
    "np.set_printoptions(formatter={'float': '{:0.5f}'.format})\n",
    "pprint(probs)"
   ]
  },
  {
   "cell_type": "code",
   "execution_count": 8,
   "metadata": {},
   "outputs": [
    {
     "name": "stdout",
     "output_type": "stream",
     "text": [
      "Probability of a home win: 0.17687557402474685\n",
      "Probability of a draw: 0.20461428613644356\n",
      "Probability of an away win: 0.6184980046565599\n"
     ]
    }
   ],
   "source": [
    "print(f\"Probability of a home win: {np.sum(np.tril(probs, -1))}\")\n",
    "print(f\"Probability of a draw: {np.sum(np.diag(probs))}\")\n",
    "print(f\"Probability of an away win: {np.sum(np.triu(probs, 1))}\")"
   ]
  }
 ],
 "metadata": {
  "kernelspec": {
   "display_name": "Python 3",
   "language": "python",
   "name": "python3"
  },
  "language_info": {
   "codemirror_mode": {
    "name": "ipython",
    "version": 3
   },
   "file_extension": ".py",
   "mimetype": "text/x-python",
   "name": "python",
   "nbconvert_exporter": "python",
   "pygments_lexer": "ipython3",
   "version": "3.12.2"
  }
 },
 "nbformat": 4,
 "nbformat_minor": 2
}
