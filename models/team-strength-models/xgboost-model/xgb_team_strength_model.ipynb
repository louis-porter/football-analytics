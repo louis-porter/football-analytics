{
 "cells": [
  {
   "cell_type": "code",
   "execution_count": null,
   "metadata": {},
   "outputs": [],
   "source": [
    "import pymc as pm\n",
    "import numpy as np\n",
    "import pandas as pd\n",
    "import os\n",
    "import requests\n",
    "import io\n",
    "from datetime import datetime, timedelta\n",
    "import multiprocessing\n",
    "import arviz as az\n",
    "import logging\n",
    "import tqdm"
   ]
  },
  {
   "cell_type": "code",
   "execution_count": null,
   "metadata": {},
   "outputs": [],
   "source": [
    "# get data\n",
    "API_KEY = os.getenv(\"API_KEY\")\n",
    "url = 'https://data-service.beatthebookie.blog/data'\n",
    "headers = {\"x-api-key\": API_KEY}\n",
    "\n",
    "# Function to fetch data for a specific division and season\n",
    "def fetch_data(division, season):\n",
    "    params = {\n",
    "        'division': division,\n",
    "        'season': season\n",
    "    }\n",
    "    response = requests.get(url, headers=headers, params=params)\n",
    "    if response.status_code == 200:\n",
    "        return pd.read_json(io.StringIO(response.content.decode('utf-8')))\n",
    "    else:\n",
    "        print(f\"Error fetching {division} {season}: {response.status_code}\")\n",
    "        print(response.content.decode('utf-8'))\n",
    "        return pd.DataFrame()\n",
    "\n",
    "# Fetch data for all combinations\n",
    "seasons = ['2024_2025', '2023_2024']\n",
    "divisions = ['Premier League', 'Championship']\n",
    "dataframes = []\n",
    "\n",
    "for division in divisions:\n",
    "    for season in seasons:\n",
    "        df = fetch_data(division, season)\n",
    "        if not df.empty:\n",
    "            dataframes.append(df)\n",
    "\n",
    "# Combine all dataframes\n",
    "if dataframes:\n",
    "    df = pd.concat(dataframes, ignore_index=True)\n",
    "    \n",
    "    # Convert match_date to datetime\n",
    "    df['match_date'] = pd.to_datetime(df['match_date'])"
   ]
  }
 ],
 "metadata": {
  "language_info": {
   "name": "python"
  }
 },
 "nbformat": 4,
 "nbformat_minor": 2
}
