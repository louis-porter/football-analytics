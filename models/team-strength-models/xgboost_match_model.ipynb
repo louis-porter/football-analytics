{
 "cells": [
  {
   "cell_type": "code",
   "execution_count": 14,
   "metadata": {},
   "outputs": [],
   "source": [
    "import warnings\n",
    "import requests\n",
    "import pandas as pd\n",
    "import io\n",
    "import os\n",
    "import numpy as np\n",
    "\n",
    "\n",
    "from sklearn.preprocessing import StandardScaler\n",
    "from sklearn.model_selection import train_test_split\n",
    "from sklearn.metrics import mean_squared_error, mean_absolute_error, r2_score\n",
    "from sklearn.model_selection import KFold, cross_val_score\n",
    "from sklearn.metrics import make_scorer\n",
    "import xgboost as xgb\n",
    "from sklearn.model_selection import GridSearchCV\n"
   ]
  },
  {
   "cell_type": "markdown",
   "metadata": {},
   "source": [
    "### Data Loading"
   ]
  },
  {
   "cell_type": "code",
   "execution_count": 15,
   "metadata": {},
   "outputs": [
    {
     "name": "stdout",
     "output_type": "stream",
     "text": [
      "        season  match_date    home_team      away_team  home_goals  \\\n",
      "3845  20242025  2024-09-21    Tottenham      Brentford           3   \n",
      "3846  20242025  2024-09-21  Aston Villa         Wolves           3   \n",
      "3847  20242025  2024-09-21    Liverpool    Bournemouth           3   \n",
      "3848  20242025  2024-09-22     Man City        Arsenal           2   \n",
      "3849  20242025  2024-09-22     Brighton  Nott'm Forest           2   \n",
      "\n",
      "      home_xgoals  away_goals  away_xgoals  \n",
      "3845      3.89481           1     0.893565  \n",
      "3846      2.37351           1     0.520117  \n",
      "3847      2.43731           0     1.469790  \n",
      "3848      2.75588           2     1.284110  \n",
      "3849      1.56836           2     1.369230  \n"
     ]
    }
   ],
   "source": [
    "# Suppress divide by zero warnings\n",
    "warnings.filterwarnings(\"ignore\", category=RuntimeWarning, message=\"divide by zero encountered in log\")\n",
    "\n",
    "\n",
    "API_KEY = os.getenv(\"API_KEY\")\n",
    "url = 'https://data-service.beatthebookie.blog/data'\n",
    "headers = {\"x-api-key\": API_KEY}\n",
    "params = {'division':'Premier League'}\n",
    "response = requests.get(url, headers=headers, params=params)\n",
    "json_str = response.content.decode('utf-8')\n",
    "prem_df = pd.read_json(io.StringIO(json_str))\n",
    "prem_teams_25 = prem_df[prem_df[\"season\"] == 20242025]\n",
    "prem_teams_25 = pd.concat([prem_teams_25['home_team'], prem_teams_25['away_team']]).unique()\n",
    "\n",
    "params = {'division':'Championship'}\n",
    "response = requests.get(url, headers=headers, params=params)\n",
    "json_str = response.content.decode('utf-8')\n",
    "champ_df = pd.read_json(io.StringIO(json_str))\n",
    "\n",
    "df = pd.concat([champ_df, prem_df])\n",
    "#df = df[(df['home_team'].isin(prem_teams_25)) | (df['away_team'].isin(prem_teams_25))]\n",
    "\n",
    "print(df[[\"season\", \"match_date\", \"home_team\", \"away_team\", \"home_goals\", \"home_xgoals\", \"away_goals\", \"away_xgoals\"]].tail())"
   ]
  },
  {
   "cell_type": "markdown",
   "metadata": {},
   "source": [
    "### Data Cleansing"
   ]
  },
  {
   "cell_type": "code",
   "execution_count": 16,
   "metadata": {},
   "outputs": [
    {
     "name": "stdout",
     "output_type": "stream",
     "text": [
      "division_id                 0\n",
      "division                    0\n",
      "season_id                   0\n",
      "season                      0\n",
      "match_date                  0\n",
      "match_teams                 0\n",
      "home_team_id                0\n",
      "home_team                   0\n",
      "away_team_id                0\n",
      "away_team                   0\n",
      "home_num_players            0\n",
      "home_market_value           0\n",
      "home_avg_market_value       0\n",
      "away_num_players            0\n",
      "away_market_value           0\n",
      "away_avg_market_value       0\n",
      "home_goals                  0\n",
      "away_goals                  0\n",
      "home_shots                440\n",
      "away_shots                  0\n",
      "home_shots_on_target        0\n",
      "away_shots_on_target        0\n",
      "home_corners                0\n",
      "away_corners                0\n",
      "home_yellow                 0\n",
      "away_yellow                 0\n",
      "home_red                    0\n",
      "away_red                    0\n",
      "home_xgoals                 0\n",
      "away_xgoals                 0\n",
      "home_deep                3922\n",
      "away_deep                3922\n",
      "home_ppda                3922\n",
      "away_ppda                3922\n",
      "bet365_home_odds            0\n",
      "bet365_draw_odds            0\n",
      "bet365_away_odds            0\n",
      "bet365_u25_odds           382\n",
      "bet365_o25_odds           382\n",
      "dtype: int64\n",
      "         division    season  count\n",
      "0    Championship  20242025     60\n",
      "1  Premier League  20202021    380\n",
      "       division    season  count\n",
      "0  Championship  20172018    551\n",
      "1  Championship  20182019    551\n",
      "2  Championship  20192020    552\n",
      "3  Championship  20202021    552\n",
      "4  Championship  20212022    552\n",
      "5  Championship  20222023    552\n",
      "6  Championship  20232024    552\n",
      "7  Championship  20242025     60\n"
     ]
    }
   ],
   "source": [
    "df['match_date'] = pd.to_datetime(df['match_date'])\n",
    "\n",
    "# Converts columns listed below to numeric datatype\n",
    "numeric_cols = [\"home_num_players\", \"home_market_value\", \"home_avg_market_value\", \"away_num_players\", \"away_market_value\", \"away_avg_market_value\",\n",
    "                \"home_goals\", \"away_goals\", \"home_shots\", \"away_shots\", \"home_shots_on_target\", \"away_shots_on_target\", \"home_corners\", \"away_corners\",\n",
    "                \"home_red\", \"away_red\", \"home_yellow\", \"away_yellow\", \"home_deep\", \"away_deep\", \"home_ppda\", \"away_ppda\"]\n",
    "for col in numeric_cols:\n",
    "    df[col] = pd.to_numeric(df[col], errors=\"coerce\")\n",
    "\n",
    "#Check for nulls\n",
    "print(df.isnull().sum())\n",
    "\n",
    "# Investigating home_shots nulls\n",
    "home_shot_nulls = df[df[\"home_shots\"].isnull()]\n",
    "home_shot_null_counts = home_shot_nulls.groupby([\"division\", \"season\"]).size().reset_index(name='count')\n",
    "print(home_shot_null_counts)\n",
    "\n",
    "# Investigating deep/ppda nulls\n",
    "ppda_nulls = df[df[\"home_ppda\"].isnull()]\n",
    "ppda_null_counts = ppda_nulls.groupby([\"division\", \"season\"]).size().reset_index(name='count')\n",
    "print(ppda_null_counts)\n"
   ]
  },
  {
   "cell_type": "markdown",
   "metadata": {},
   "source": [
    "ABove analysis shos that Championship is missing data for deep/ppda and that some random seasons of Premier League and Championship are missing home_shots data. I will not be handling these missing values directly as I am going to use an XGBoost model which handles missing values in training itself."
   ]
  },
  {
   "cell_type": "code",
   "execution_count": 17,
   "metadata": {},
   "outputs": [],
   "source": [
    "# Separates out the home vs away and allows every team to have an individual row of data. Allows us to feature engineer home effect easier.\n",
    "home_df = df[[\"division\", \"season\", \"match_date\",\n",
    "             \"home_team\", \"home_avg_market_value\", \"home_goals\", \"home_shots\", \"home_xgoals\",  \"home_deep\", \"home_ppda\",\n",
    "             \"home_shots_on_target\", \"home_corners\", \"home_yellow\", \"home_red\",\n",
    "             \"away_team\", \"away_avg_market_value\", \"away_goals\", \"away_shots\", \"away_xgoals\", \"away_deep\", \"away_ppda\",\n",
    "             \"away_shots_on_target\", \"away_corners\", \"away_yellow\", \"away_red\",\n",
    "              ]].copy()\n",
    "home_df[\"home?\"] = 1\n",
    "home_df = home_df.rename(columns={\"home_team\":\"team\", \"home_avg_market_value\":\"avg_market_value\", \"home_goals\":\"goals\",\n",
    "             \"home_shots\":\"shots\", \"home_xgoals\":\"xG\",  \"home_deep\":\"deep\", \"home_ppda\":\"ppda\", \"home_shots_on_target\":\"shots_on_target\",\n",
    "             \"home_corners\":\"corners\", \"home_yellow\": \"yellow\", \"home_red\": \"red\",\n",
    "\n",
    "             \"away_team\":\"opponent_team\", \"away_avg_market_value\":\"opponent_avg_market_value\", \"away_goals\":\"opponent_goals\", \n",
    "             \"away_shots\": \"opponent_shots\", \"away_xgoals\": \"opponent_xG\", \"away_deep\":\"opponent_deep\", \"away_ppda\":\"opponent_ppda\",\n",
    "             \"away_shots_on_target\": \"opponent_shots_on_target\", \"away_corners\":\"opponent_corners\", \"away_yellow\":\"opponent_yellow\",\n",
    "             \"away_red\": \"opponent_red\"})\n",
    "\n",
    "away_df = df[[\"division\", \"season\", \"match_date\",\n",
    "                \"away_team\", \"away_avg_market_value\", \"away_goals\", \"away_shots\", \"away_xgoals\",  \"away_deep\", \"away_ppda\",\n",
    "                \"away_shots_on_target\", \"away_corners\", \"away_yellow\", \"away_red\",\n",
    "                \"home_team\", \"home_avg_market_value\", \"home_goals\", \"home_shots\", \"home_xgoals\", \"home_deep\", \"home_ppda\",\n",
    "                \"home_shots_on_target\", \"home_corners\", \"home_yellow\", \"home_red\",]].copy()\n",
    "away_df[\"home?\"] = 0\n",
    "away_df = away_df.rename(columns={\"away_team\":\"team\", \"away_avg_market_value\":\"avg_market_value\", \"away_goals\":\"goals\",\n",
    "             \"away_shots\":\"shots\", \"away_xgoals\":\"xG\", \"away_deep\":\"deep\", \"away_ppda\":\"ppda\", \"away_shots_on_target\":\"shots_on_target\",\n",
    "             \"away_corners\":\"corners\", \"away_yellow\":\"yellow\", \"away_red\":\"red\",\n",
    "\n",
    "\n",
    "             \"home_team\":\"opponent_team\", \"home_avg_market_value\":\"opponent_avg_market_value\", \"home_goals\":\"opponent_goals\", \n",
    "             \"home_shots\": \"opponent_shots\", \"home_xgoals\": \"opponent_xG\", \"home_deep\":\"opponent_deep\", \"home_ppda\":\"opponent_ppda\",\n",
    "             \"home_shots_on_target\":\"opponent_shots_on_target\", \"home_corners\":\"opponent_corners\", \"home_yellow\":\"opponent_yellow\",\n",
    "             \"home_red\":\"opponent_red\"})\n",
    "\n",
    "df = pd.concat([away_df, home_df])\n",
    "df.sort_values([\"match_date\", \"division\"], inplace=True)"
   ]
  },
  {
   "cell_type": "code",
   "execution_count": 18,
   "metadata": {},
   "outputs": [],
   "source": [
    "# Apply penalty to standardise championship games to Prem level\n",
    "\n",
    "decrease = [\"goals\", \"shots\", \"xG\", \"deep\", \"opponent_ppda\", \"shots_on_target\", \"corners\"]\n",
    "increase = [\"opponent_goals\", \"opponent_shots\",  \"opponent_xG\", \"opponent_deep\", \"ppda\", \"opponent_shots_on_target\", \"opponent_corners\"]\n",
    "\n",
    "# df.loc[df[\"division\"] == \"Championship\", decrease] *= 0.7\n",
    "# df.loc[df[\"division\"] == \"Championship\", increase] *= 1.4\n"
   ]
  },
  {
   "cell_type": "markdown",
   "metadata": {},
   "source": [
    "### Feature Engineering"
   ]
  },
  {
   "cell_type": "code",
   "execution_count": 19,
   "metadata": {},
   "outputs": [],
   "source": [
    "def penalized_ema(group_df, column_name, span=50):\n",
    "    # Shift colkumn so current game is not included\n",
    "    shifted_column = group_df[column_name].shift(1)\n",
    "    \n",
    "    # Apply the EMA on the shifted column\n",
    "    ema_values = shifted_column.ewm(span=span, adjust=False, min_periods=1).mean()\n",
    "    \n",
    "    return ema_values"
   ]
  },
  {
   "cell_type": "code",
   "execution_count": 20,
   "metadata": {},
   "outputs": [],
   "source": [
    "# Compute EMAs for team stats\n",
    "df.sort_values(by=[\"team\", \"match_date\"], inplace=True)\n",
    "stat_columns = ['goals', \"shots\", \"xG\", \"shots_on_target\", \"corners\", \"deep\", \"ppda\"]\n",
    "\n",
    "for col in stat_columns:\n",
    "    df[f\"rolling_{col}\"] = df.groupby(\"team\", group_keys=False).apply(lambda x: penalized_ema(x, col), include_groups=False)\n",
    "    df[f\"rolling_{col}_conceded\"] = df.groupby(\"team\", group_keys=False).apply(lambda x: penalized_ema(x, f'opponent_{col}'), include_groups=False)\n",
    "\n",
    "df.reset_index(drop=True, inplace=True)\n",
    "\n",
    "# Compute EMAs for opponent stats\n",
    "df.sort_values(by=[\"opponent_team\", \"match_date\"], inplace=True)\n",
    "\n",
    "for col in stat_columns:\n",
    "    df[f\"opponent_rolling_{col}\"] = df.groupby(\"opponent_team\", group_keys=False).apply(lambda x: penalized_ema(x, f'opponent_{col}'), include_groups=False)\n",
    "    df[f\"opponent_rolling_{col}_conceded\"] = df.groupby(\"opponent_team\", group_keys=False).apply(lambda x: penalized_ema(x, col), include_groups=False)\n",
    "\n",
    "df.reset_index(drop=True, inplace=True)"
   ]
  },
  {
   "cell_type": "code",
   "execution_count": 21,
   "metadata": {},
   "outputs": [],
   "source": [
    "# Evaluate MAE"
   ]
  },
  {
   "cell_type": "markdown",
   "metadata": {},
   "source": [
    "### Model Training"
   ]
  },
  {
   "cell_type": "code",
   "execution_count": 22,
   "metadata": {},
   "outputs": [],
   "source": [
    "# Filter training set to Premier League matches only\n",
    "df = df[df[\"division\"] == \"Premier League\"]\n",
    "\n",
    "X = df[[\"home?\",\n",
    "        \n",
    "        \"avg_market_value\",\n",
    "        \"rolling_goals\",\n",
    "        \"rolling_shots\",\n",
    "        \"rolling_xG\",\n",
    "        \"rolling_shots_on_target\",\n",
    "        \"rolling_corners\",\n",
    "        \"rolling_deep\",\n",
    "        \"rolling_goals_conceded\",\n",
    "        \"rolling_shots_conceded\",\n",
    "        \"rolling_xG_conceded\",\n",
    "        \"rolling_shots_on_target_conceded\",\n",
    "        \"rolling_corners_conceded\",\n",
    "        \"rolling_deep_conceded\",\n",
    "\n",
    "        \"opponent_avg_market_value\",\n",
    "        \"opponent_rolling_goals\",\n",
    "        \"opponent_rolling_shots\",\n",
    "        \"opponent_rolling_xG\",\n",
    "        \"opponent_rolling_shots_on_target\",\n",
    "        \"opponent_rolling_corners\",\n",
    "        \"opponent_rolling_deep\",\n",
    "        \"opponent_rolling_goals_conceded\",\n",
    "        \"opponent_rolling_shots_conceded\",\n",
    "        \"opponent_rolling_xG_conceded\",\n",
    "        \"opponent_rolling_shots_on_target_conceded\",\n",
    "        \"opponent_rolling_corners_conceded\",\n",
    "        \"opponent_rolling_deep_conceded\",]]\n",
    "\n",
    "y = df[\"goals\"]\n",
    "\n",
    "X_train, X_test, y_train, y_test = train_test_split(X, y, test_size=0.2, random_state=26)"
   ]
  },
  {
   "cell_type": "code",
   "execution_count": 23,
   "metadata": {},
   "outputs": [
    {
     "name": "stdout",
     "output_type": "stream",
     "text": [
      "Train MAE: 0.2964473050532752 | Train MSE: 0.15403031486654234\n",
      "Test MAE: 1.0428714028877122 | Test MSE: 1.7236436306721417\n"
     ]
    }
   ],
   "source": [
    "xgb_model = xgb.XGBRegressor(objective=\"reg:squarederror\", random_state=26)\n",
    "xgb_model.fit(X_train, y_train)\n",
    "\n",
    "y_train_pred = xgb_model.predict(X_train)\n",
    "y_test_pred = xgb_model.predict(X_test)\n",
    "\n",
    "train_mse_xgb = mean_squared_error(y_train, y_train_pred)\n",
    "train_mae_xgb = mean_absolute_error(y_train, y_train_pred)\n",
    "\n",
    "test_mse_xgb = mean_squared_error(y_test, y_test_pred)\n",
    "test_mae_xgb = mean_absolute_error(y_test, y_test_pred)\n",
    "\n",
    "print(f\"Train MAE: {train_mae_xgb} | Train MSE: {train_mse_xgb}\")\n",
    "print(f\"Test MAE: {test_mae_xgb} | Test MSE: {test_mse_xgb}\")"
   ]
  },
  {
   "cell_type": "code",
   "execution_count": 24,
   "metadata": {},
   "outputs": [
    {
     "name": "stdout",
     "output_type": "stream",
     "text": [
      "Fitting 5 folds for each of 288 candidates, totalling 1440 fits\n",
      "Best parameters: {'alpha': 0.1, 'colsample_bytree': 0.8, 'lambda': 1, 'learning_rate': 0.1, 'max_depth': 3, 'n_estimators': 100, 'subsample': 0.8}\n",
      "Best cross-validation MSE: 1.3770519018713951\n",
      "train MSE: 1.1691961471750052 | train R²: 0.2737995694368809\n",
      "Test mae: 0.9519687208068836 | Test mse: 1.4537571420441406\n"
     ]
    }
   ],
   "source": [
    "# Define the parameter grid\n",
    "param_grid = {\n",
    "    'n_estimators': [100, 200],\n",
    "    'learning_rate': [0.01, 0.1],\n",
    "    'max_depth': [3, 5],\n",
    "    'subsample': [0.8, 1.0],\n",
    "    'colsample_bytree': [0.8, 1.0],\n",
    "    'alpha': [0, 0.1, 1],\n",
    "    'lambda': [1, 1.5, 2]\n",
    "}\n",
    "\n",
    "# Initalise GridSearchCV\n",
    "grid_search = GridSearchCV(estimator=xgb_model, param_grid=param_grid, scoring=\"neg_mean_squared_error\",\n",
    "                           cv=5, n_jobs=-1, verbose=1)\n",
    "\n",
    "grid_search.fit(X_train, y_train)\n",
    "\n",
    "# Best parameters and best score\n",
    "print(f\"Best parameters: {grid_search.best_params_}\")\n",
    "print(f\"Best cross-validation MSE: {-grid_search.best_score_}\")\n",
    "best_model = grid_search.best_estimator_\n",
    "\n",
    "# Evaluate on training set\n",
    "y_train_pred_xgb = best_model.predict(X_train)\n",
    "\n",
    "train_mse_xgb = mean_squared_error(y_train, y_train_pred_xgb)\n",
    "train_r2_xgb = r2_score(y_train, y_train_pred_xgb)\n",
    "print(f\"train MSE: {train_mse_xgb} | train R²: {train_r2_xgb}\")\n",
    "\n",
    "# Evaluate on test set\n",
    "y_test_pred_cv = best_model.predict(X_test)\n",
    "\n",
    "test_mse_xgb = mean_squared_error(y_test, y_test_pred_cv)\n",
    "test_mae_xgb = mean_absolute_error(y_test, y_test_pred_cv)\n",
    "print(f\"Test mae: {test_mae_xgb} | Test mse: {test_mse_xgb}\")"
   ]
  },
  {
   "cell_type": "code",
   "execution_count": 25,
   "metadata": {},
   "outputs": [],
   "source": [
    "#TODO: Feature Validation\n",
    "    #TODO: Apply Championship penalties\n",
    "    #TODO: Validate wage\n",
    "    #TODO: Work out how to add time decay\n",
    "\n",
    "#TODO: Model Evaluation\n",
    "    #TODO: Evaluate Feature Importance\n",
    "\n",
    "#TODO: Model Predictions\n",
    "    #TODO: Establish a method to predict goals for fixtures (finding most recent row for team?)\n",
    "\n",
    "#TODO: Team Strength Modelling\n",
    "    #TODO: Create a team strength metric based on team performance versus average team?"
   ]
  }
 ],
 "metadata": {
  "kernelspec": {
   "display_name": "Python 3",
   "language": "python",
   "name": "python3"
  },
  "language_info": {
   "codemirror_mode": {
    "name": "ipython",
    "version": 3
   },
   "file_extension": ".py",
   "mimetype": "text/x-python",
   "name": "python",
   "nbconvert_exporter": "python",
   "pygments_lexer": "ipython3",
   "version": "3.12.2"
  }
 },
 "nbformat": 4,
 "nbformat_minor": 2
}
